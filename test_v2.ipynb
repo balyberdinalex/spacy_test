{
 "cells": [
  {
   "cell_type": "code",
   "execution_count": 1,
   "id": "136bc541",
   "metadata": {
    "scrolled": true
   },
   "outputs": [],
   "source": [
    "import spacy\n",
    "import os\n",
    "import pandas as pd\n",
    "import numpy as np\n",
    "import re\n",
    "import nltk\n"
   ]
  },
  {
   "cell_type": "code",
   "execution_count": 2,
   "id": "a81d4975",
   "metadata": {},
   "outputs": [],
   "source": [
    "nlp = spacy.load(\"ru_core_news_lg\")\n",
    "# nlp = spacy.load(\"ru_core_news_sm\")"
   ]
  },
  {
   "cell_type": "code",
   "execution_count": 3,
   "id": "360da74f",
   "metadata": {},
   "outputs": [],
   "source": [
    "try:\n",
    "    #локальный адрес\n",
    "    data = pd.read_csv(os.path.abspath(os.path.curdir)+'\\\\test_data.csv')\n",
    "except:\n",
    "    #адрес в другом месте\n",
    "    data = pd.read_csv(os.path.abspath(os.path.curdir)+'/test_data.csv')\n",
    "    "
   ]
  },
  {
   "cell_type": "code",
   "execution_count": 4,
   "id": "394d4e98",
   "metadata": {},
   "outputs": [],
   "source": [
    "# Столбцы для парсинга реплик\n",
    "data[['greeting', 'said_goodbye', 'name_manager', 'client_company','manager_introduced_himself']]=0"
   ]
  },
  {
   "cell_type": "code",
   "execution_count": 5,
   "id": "a409a395",
   "metadata": {
    "scrolled": true
   },
   "outputs": [
    {
     "name": "stdout",
     "output_type": "stream",
     "text": [
      "<class 'pandas.core.frame.DataFrame'>\n",
      "RangeIndex: 480 entries, 0 to 479\n",
      "Data columns (total 9 columns):\n",
      " #   Column                      Non-Null Count  Dtype \n",
      "---  ------                      --------------  ----- \n",
      " 0   dlg_id                      480 non-null    int64 \n",
      " 1   line_n                      480 non-null    int64 \n",
      " 2   role                        480 non-null    object\n",
      " 3   text                        480 non-null    object\n",
      " 4   greeting                    480 non-null    int64 \n",
      " 5   said_goodbye                480 non-null    int64 \n",
      " 6   name_manager                480 non-null    int64 \n",
      " 7   client_company              480 non-null    int64 \n",
      " 8   manager_introduced_himself  480 non-null    int64 \n",
      "dtypes: int64(7), object(2)\n",
      "memory usage: 33.9+ KB\n"
     ]
    }
   ],
   "source": [
    "data.info()"
   ]
  },
  {
   "cell_type": "code",
   "execution_count": 6,
   "id": "695ef031",
   "metadata": {},
   "outputs": [
    {
     "data": {
      "text/plain": [
       "array([0, 1, 2, 3, 4, 5], dtype=int64)"
      ]
     },
     "execution_count": 6,
     "metadata": {},
     "output_type": "execute_result"
    }
   ],
   "source": [
    "# Уникальные диалоги\n",
    "data['dlg_id'].unique()"
   ]
  },
  {
   "cell_type": "code",
   "execution_count": 7,
   "id": "991c8768",
   "metadata": {},
   "outputs": [],
   "source": [
    "# Диалоги менеджера"
   ]
  },
  {
   "cell_type": "code",
   "execution_count": 8,
   "id": "38cf7817",
   "metadata": {
    "scrolled": true
   },
   "outputs": [
    {
     "name": "stdout",
     "output_type": "stream",
     "text": [
      "добрый день\n",
      "здравствуйте\n",
      "здравствуйте\n",
      "добрый день\n",
      "до свидания\n",
      "добрый\n",
      "до свидания\n",
      "здравствуйте\n"
     ]
    }
   ],
   "source": [
    "for dlg_id in range(6):# Цикл по диалогам\n",
    "    text_manager=data.loc[(data['role'] =='manager')&(data['dlg_id']==dlg_id) ,['text']]\n",
    "\n",
    "    for index in text_manager.index:# цикл по индексам реплик менеджера\n",
    "        doc=nlp(text_manager.loc[index,'text'].lower())# храним обработанную реплику диалога\n",
    "        #приветсвие\n",
    "        for token in doc:# цикл по токенам\n",
    "            if token.head.text=='день' and token.dep_ =='amod':\n",
    "                print(token.text,token.head.text)\n",
    "                data.loc[index,'greeting']=1\n",
    "            elif token.head.text=='здравствуйте' and token.dep_ =='ROOT':\n",
    "                print(token.head.text)\n",
    "                data.loc[index,'greeting']=1\n",
    "            elif token.head.text=='добрый' and token.dep_ =='ROOT':\n",
    "                print(token.head.text)\n",
    "                data.loc[index,'greeting']=1\n",
    "        #прощание\n",
    "        for token in doc:# цикл по токенам\n",
    "            if token.head.text=='свидания' and token.dep_ =='case':\n",
    "                print(token.text, token.head.text)\n",
    "                data.loc[index,'said_goodbye']=1\n",
    "        #Менеджер представился\n",
    "        for token in doc:\n",
    "            if token.head.text=='зовут' and token.ent_type != 0:\n",
    "                print(token.text)\n",
    "                data.loc[index,'manager_introduced_himself']=1\n",
    "            \n",
    "    "
   ]
  },
  {
   "cell_type": "code",
   "execution_count": 9,
   "id": "90a0609a",
   "metadata": {},
   "outputs": [
    {
     "name": "stdout",
     "output_type": "stream",
     "text": [
      "                                                  text\n",
      "2                                          Добрый день\n",
      "109                Да здравствуйте когда заканчивается\n",
      "165                                       Здравствуйте\n",
      "249                                        Добрый день\n",
      "304                                             Добрый\n",
      "358  Да да да здравствуйте анастасия меня слышно да...\n"
     ]
    }
   ],
   "source": [
    "#Реплика приветсвия менеджера\n",
    "print(data.loc[(data['greeting']==1) ,['text']])"
   ]
  },
  {
   "cell_type": "code",
   "execution_count": 10,
   "id": "c4b6f703",
   "metadata": {},
   "outputs": [
    {
     "name": "stdout",
     "output_type": "stream",
     "text": [
      "                   text\n",
      "301      Да до свидания\n",
      "336  Угу да до свидания\n"
     ]
    }
   ],
   "source": [
    "#Реплика прощания менеджера\n",
    "print(data.loc[(data['said_goodbye']==1) ,['text']])"
   ]
  },
  {
   "cell_type": "code",
   "execution_count": 11,
   "id": "adf6b122",
   "metadata": {},
   "outputs": [
    {
     "name": "stdout",
     "output_type": "stream",
     "text": [
      "Empty DataFrame\n",
      "Columns: [text]\n",
      "Index: []\n"
     ]
    }
   ],
   "source": [
    "#Реплика где менеджер представился\n",
    "print(data.loc[(data['manager_introduced_himself']==1),['text']])"
   ]
  },
  {
   "cell_type": "code",
   "execution_count": 12,
   "id": "76133c82",
   "metadata": {},
   "outputs": [],
   "source": [
    "# Проверка требования к менеджеру: «В каждом диалоге обязательно необходимо поздороваться и попрощаться с клиентом»\n",
    "dlg_id_greeting=(data.loc[(data['greeting']==1) ,['dlg_id']])\n",
    "dlg_id_goodbay=(data.loc[(data['said_goodbye']==1) ,['dlg_id']])\n"
   ]
  },
  {
   "cell_type": "code",
   "execution_count": 13,
   "id": "260cdc48",
   "metadata": {
    "scrolled": true
   },
   "outputs": [
    {
     "data": {
      "text/html": [
       "<div>\n",
       "<style scoped>\n",
       "    .dataframe tbody tr th:only-of-type {\n",
       "        vertical-align: middle;\n",
       "    }\n",
       "\n",
       "    .dataframe tbody tr th {\n",
       "        vertical-align: top;\n",
       "    }\n",
       "\n",
       "    .dataframe thead th {\n",
       "        text-align: right;\n",
       "    }\n",
       "</style>\n",
       "<table border=\"1\" class=\"dataframe\">\n",
       "  <thead>\n",
       "    <tr style=\"text-align: right;\">\n",
       "      <th></th>\n",
       "      <th>dlg_id</th>\n",
       "    </tr>\n",
       "  </thead>\n",
       "  <tbody>\n",
       "    <tr>\n",
       "      <th>2</th>\n",
       "      <td>0</td>\n",
       "    </tr>\n",
       "    <tr>\n",
       "      <th>109</th>\n",
       "      <td>1</td>\n",
       "    </tr>\n",
       "    <tr>\n",
       "      <th>165</th>\n",
       "      <td>2</td>\n",
       "    </tr>\n",
       "    <tr>\n",
       "      <th>249</th>\n",
       "      <td>3</td>\n",
       "    </tr>\n",
       "    <tr>\n",
       "      <th>304</th>\n",
       "      <td>4</td>\n",
       "    </tr>\n",
       "    <tr>\n",
       "      <th>358</th>\n",
       "      <td>5</td>\n",
       "    </tr>\n",
       "  </tbody>\n",
       "</table>\n",
       "</div>"
      ],
      "text/plain": [
       "     dlg_id\n",
       "2         0\n",
       "109       1\n",
       "165       2\n",
       "249       3\n",
       "304       4\n",
       "358       5"
      ]
     },
     "execution_count": 13,
     "metadata": {},
     "output_type": "execute_result"
    }
   ],
   "source": [
    "dlg_id_greeting"
   ]
  },
  {
   "cell_type": "code",
   "execution_count": 14,
   "id": "a2c40372",
   "metadata": {
    "scrolled": false
   },
   "outputs": [
    {
     "data": {
      "text/html": [
       "<div>\n",
       "<style scoped>\n",
       "    .dataframe tbody tr th:only-of-type {\n",
       "        vertical-align: middle;\n",
       "    }\n",
       "\n",
       "    .dataframe tbody tr th {\n",
       "        vertical-align: top;\n",
       "    }\n",
       "\n",
       "    .dataframe thead th {\n",
       "        text-align: right;\n",
       "    }\n",
       "</style>\n",
       "<table border=\"1\" class=\"dataframe\">\n",
       "  <thead>\n",
       "    <tr style=\"text-align: right;\">\n",
       "      <th></th>\n",
       "      <th>dlg_id</th>\n",
       "    </tr>\n",
       "  </thead>\n",
       "  <tbody>\n",
       "    <tr>\n",
       "      <th>301</th>\n",
       "      <td>3</td>\n",
       "    </tr>\n",
       "    <tr>\n",
       "      <th>336</th>\n",
       "      <td>4</td>\n",
       "    </tr>\n",
       "  </tbody>\n",
       "</table>\n",
       "</div>"
      ],
      "text/plain": [
       "     dlg_id\n",
       "301       3\n",
       "336       4"
      ]
     },
     "execution_count": 14,
     "metadata": {},
     "output_type": "execute_result"
    }
   ],
   "source": [
    "dlg_id_goodbay"
   ]
  },
  {
   "cell_type": "code",
   "execution_count": 15,
   "id": "02771a50",
   "metadata": {},
   "outputs": [],
   "source": [
    "merged = dlg_id_greeting.merge(dlg_id_goodbay, indicator=True, how='outer')"
   ]
  },
  {
   "cell_type": "code",
   "execution_count": 16,
   "id": "f1d86f2b",
   "metadata": {
    "scrolled": false
   },
   "outputs": [
    {
     "data": {
      "text/html": [
       "<div>\n",
       "<style scoped>\n",
       "    .dataframe tbody tr th:only-of-type {\n",
       "        vertical-align: middle;\n",
       "    }\n",
       "\n",
       "    .dataframe tbody tr th {\n",
       "        vertical-align: top;\n",
       "    }\n",
       "\n",
       "    .dataframe thead th {\n",
       "        text-align: right;\n",
       "    }\n",
       "</style>\n",
       "<table border=\"1\" class=\"dataframe\">\n",
       "  <thead>\n",
       "    <tr style=\"text-align: right;\">\n",
       "      <th></th>\n",
       "      <th>dlg_id</th>\n",
       "      <th>_merge</th>\n",
       "    </tr>\n",
       "  </thead>\n",
       "  <tbody>\n",
       "    <tr>\n",
       "      <th>0</th>\n",
       "      <td>0</td>\n",
       "      <td>left_only</td>\n",
       "    </tr>\n",
       "    <tr>\n",
       "      <th>1</th>\n",
       "      <td>1</td>\n",
       "      <td>left_only</td>\n",
       "    </tr>\n",
       "    <tr>\n",
       "      <th>2</th>\n",
       "      <td>2</td>\n",
       "      <td>left_only</td>\n",
       "    </tr>\n",
       "    <tr>\n",
       "      <th>3</th>\n",
       "      <td>3</td>\n",
       "      <td>both</td>\n",
       "    </tr>\n",
       "    <tr>\n",
       "      <th>4</th>\n",
       "      <td>4</td>\n",
       "      <td>both</td>\n",
       "    </tr>\n",
       "    <tr>\n",
       "      <th>5</th>\n",
       "      <td>5</td>\n",
       "      <td>left_only</td>\n",
       "    </tr>\n",
       "  </tbody>\n",
       "</table>\n",
       "</div>"
      ],
      "text/plain": [
       "   dlg_id     _merge\n",
       "0       0  left_only\n",
       "1       1  left_only\n",
       "2       2  left_only\n",
       "3       3       both\n",
       "4       4       both\n",
       "5       5  left_only"
      ]
     },
     "execution_count": 16,
     "metadata": {},
     "output_type": "execute_result"
    }
   ],
   "source": [
    "merged"
   ]
  },
  {
   "cell_type": "code",
   "execution_count": 17,
   "id": "4090ba84",
   "metadata": {
    "scrolled": false
   },
   "outputs": [
    {
     "name": "stdout",
     "output_type": "stream",
     "text": [
      "Диалоги в которых выполняется требования к менеджеру\n"
     ]
    },
    {
     "data": {
      "text/html": [
       "<div>\n",
       "<style scoped>\n",
       "    .dataframe tbody tr th:only-of-type {\n",
       "        vertical-align: middle;\n",
       "    }\n",
       "\n",
       "    .dataframe tbody tr th {\n",
       "        vertical-align: top;\n",
       "    }\n",
       "\n",
       "    .dataframe thead th {\n",
       "        text-align: right;\n",
       "    }\n",
       "</style>\n",
       "<table border=\"1\" class=\"dataframe\">\n",
       "  <thead>\n",
       "    <tr style=\"text-align: right;\">\n",
       "      <th></th>\n",
       "      <th>dlg_id</th>\n",
       "      <th>_merge</th>\n",
       "    </tr>\n",
       "  </thead>\n",
       "  <tbody>\n",
       "    <tr>\n",
       "      <th>3</th>\n",
       "      <td>3</td>\n",
       "      <td>both</td>\n",
       "    </tr>\n",
       "    <tr>\n",
       "      <th>4</th>\n",
       "      <td>4</td>\n",
       "      <td>both</td>\n",
       "    </tr>\n",
       "  </tbody>\n",
       "</table>\n",
       "</div>"
      ],
      "text/plain": [
       "   dlg_id _merge\n",
       "3       3   both\n",
       "4       4   both"
      ]
     },
     "metadata": {},
     "output_type": "display_data"
    }
   ],
   "source": [
    "print('Диалоги в которых выполняется требования к менеджеру')\n",
    "display (merged[merged['_merge'] == 'both'])"
   ]
  },
  {
   "cell_type": "code",
   "execution_count": 18,
   "id": "14c91d21",
   "metadata": {},
   "outputs": [],
   "source": [
    "# Или можно так\n",
    "# dlg_id_goodbay.reset_index(inplace=True,drop=True)\n",
    "# dlg_id_greeting.reset_index(inplace=True,drop=True)"
   ]
  },
  {
   "cell_type": "code",
   "execution_count": 19,
   "id": "8ac6d8e3",
   "metadata": {},
   "outputs": [],
   "source": [
    "# print('Диалоги в которых выполняется требования к менеджеру')\n",
    "# for i in range(len(dlg_id_greeting)):\n",
    "#     a=dlg_id_greeting.loc[i,'dlg_id']\n",
    "#     for j in range(len(dlg_id_goodbay)):\n",
    "#         b=dlg_id_goodbay.loc[j,'dlg_id']\n",
    "#         if a==b:\n",
    "#             print(a)\n",
    "                "
   ]
  },
  {
   "cell_type": "code",
   "execution_count": 20,
   "id": "739460e8",
   "metadata": {},
   "outputs": [],
   "source": [
    "# Диалоги клиента"
   ]
  },
  {
   "cell_type": "code",
   "execution_count": 21,
   "id": "38b3bc22",
   "metadata": {
    "scrolled": true
   },
   "outputs": [
    {
     "name": "stdout",
     "output_type": "stream",
     "text": [
      "диджитал компания\n",
      "диджитал компания\n",
      "диджитал компания\n",
      "дмитрий\n",
      "компания китобизнес\n"
     ]
    }
   ],
   "source": [
    "for dlg_id in range(6):# Цикл по диалогам\n",
    "    text_manager=data.loc[(data['role'] =='client')&(data['dlg_id']==dlg_id) ,['text']]\n",
    "\n",
    "    for index in text_manager.index:# цикл по индексам реплик менеджера\n",
    "        doc=nlp(text_manager.loc[index,'text'].lower())# храним обработанную реплику диалога\n",
    "        # Имя компании\n",
    "        for token in doc:\n",
    "            if token.head.text=='компания' and token.dep_=='appos':\n",
    "                print(token.head.text,token.text)\n",
    "                data.loc[index,'client_company']=token.text\n",
    "            else:\n",
    "                if token.text=='компания' and token.dep_=='nsubj':\n",
    "                    print(token.head.text,token.text)\n",
    "                    data.loc[index,'client_company']=token.head.text\n",
    "    \n",
    "        # Имя менеджера\n",
    "        \n",
    "        for token in doc:\n",
    "            if token.head.text=='алло' and token.dep_ =='appos':\n",
    "                print(token.text)\n",
    "                data.loc[index,'name_manager']=token.text\n",
    "        \n",
    "        # Имя клиента\n",
    "#         for token in doc:\n",
    "#             if token.head.text=='зовут' and token.ent_type != 0:\n",
    "#                 print(token.text)                "
   ]
  },
  {
   "cell_type": "code",
   "execution_count": 22,
   "id": "cb23ecfd",
   "metadata": {
    "scrolled": false
   },
   "outputs": [
    {
     "data": {
      "text/html": [
       "<div>\n",
       "<style scoped>\n",
       "    .dataframe tbody tr th:only-of-type {\n",
       "        vertical-align: middle;\n",
       "    }\n",
       "\n",
       "    .dataframe tbody tr th {\n",
       "        vertical-align: top;\n",
       "    }\n",
       "\n",
       "    .dataframe thead th {\n",
       "        text-align: right;\n",
       "    }\n",
       "</style>\n",
       "<table border=\"1\" class=\"dataframe\">\n",
       "  <thead>\n",
       "    <tr style=\"text-align: right;\">\n",
       "      <th></th>\n",
       "      <th>name_manager</th>\n",
       "    </tr>\n",
       "  </thead>\n",
       "  <tbody>\n",
       "    <tr>\n",
       "      <th>250</th>\n",
       "      <td>дмитрий</td>\n",
       "    </tr>\n",
       "  </tbody>\n",
       "</table>\n",
       "</div>"
      ],
      "text/plain": [
       "    name_manager\n",
       "250      дмитрий"
      ]
     },
     "execution_count": 22,
     "metadata": {},
     "output_type": "execute_result"
    }
   ],
   "source": [
    "# Имя менеджера\n",
    "data.loc[(data['role'] =='client')&(data['name_manager']!=0),['name_manager'] ]"
   ]
  },
  {
   "cell_type": "code",
   "execution_count": 23,
   "id": "7e91a711",
   "metadata": {},
   "outputs": [
    {
     "data": {
      "text/html": [
       "<div>\n",
       "<style scoped>\n",
       "    .dataframe tbody tr th:only-of-type {\n",
       "        vertical-align: middle;\n",
       "    }\n",
       "\n",
       "    .dataframe tbody tr th {\n",
       "        vertical-align: top;\n",
       "    }\n",
       "\n",
       "    .dataframe thead th {\n",
       "        text-align: right;\n",
       "    }\n",
       "</style>\n",
       "<table border=\"1\" class=\"dataframe\">\n",
       "  <thead>\n",
       "    <tr style=\"text-align: right;\">\n",
       "      <th></th>\n",
       "      <th>client_company</th>\n",
       "    </tr>\n",
       "  </thead>\n",
       "  <tbody>\n",
       "    <tr>\n",
       "      <th>3</th>\n",
       "      <td>диджитал</td>\n",
       "    </tr>\n",
       "    <tr>\n",
       "      <th>111</th>\n",
       "      <td>диджитал</td>\n",
       "    </tr>\n",
       "    <tr>\n",
       "      <th>167</th>\n",
       "      <td>диджитал</td>\n",
       "    </tr>\n",
       "    <tr>\n",
       "      <th>251</th>\n",
       "      <td>китобизнес</td>\n",
       "    </tr>\n",
       "  </tbody>\n",
       "</table>\n",
       "</div>"
      ],
      "text/plain": [
       "    client_company\n",
       "3         диджитал\n",
       "111       диджитал\n",
       "167       диджитал\n",
       "251     китобизнес"
      ]
     },
     "execution_count": 23,
     "metadata": {},
     "output_type": "execute_result"
    }
   ],
   "source": [
    "# Название компании\n",
    "data.loc[(data['role'] =='client')&(data['client_company']!=0),['client_company'] ]"
   ]
  },
  {
   "cell_type": "code",
   "execution_count": 24,
   "id": "1977185f",
   "metadata": {},
   "outputs": [],
   "source": [
    "# Разбор реплик\n",
    "# def text_nlp(doc):\n",
    "#     print([w.text for w in doc])\n",
    "#     print()\n",
    "#     for token in doc:\n",
    "#         print(token.text, token.pos_, token.dep_)\n",
    "#     print()\n",
    "#     for token in doc:    \n",
    "#         print(token.head.text, token.dep_, token.text,token.ent_type)\n",
    "#     print()\n",
    "#     for sent in doc.sents:\n",
    "#         print([w.text for w in sent if w.dep_ == 'ROOT' or w.dep_ == 'pobj'])\n",
    "#     print()\n",
    "#     for token in doc:\n",
    "#         if token.ent_type != 0:\n",
    "#             print(token.text, token.ent_type_)"
   ]
  },
  {
   "cell_type": "code",
   "execution_count": 25,
   "id": "e37617b8",
   "metadata": {},
   "outputs": [],
   "source": [
    "# Синонимы только английские\n",
    "# from nltk.corpus import wordnet\n",
    "\n",
    "# synonyms = []\n",
    "\n",
    "# for syn in wordnet.synsets(\"life\"):\n",
    "#     for lm in syn.lemmas():\n",
    "#              synonyms.append(lm.name())\n",
    "# print (set(synonyms))"
   ]
  },
  {
   "cell_type": "code",
   "execution_count": null,
   "id": "9e18da42",
   "metadata": {},
   "outputs": [],
   "source": []
  }
 ],
 "metadata": {
  "kernelspec": {
   "display_name": "Python 3 (ipykernel)",
   "language": "python",
   "name": "python3"
  },
  "language_info": {
   "codemirror_mode": {
    "name": "ipython",
    "version": 3
   },
   "file_extension": ".py",
   "mimetype": "text/x-python",
   "name": "python",
   "nbconvert_exporter": "python",
   "pygments_lexer": "ipython3",
   "version": "3.7.8"
  },
  "toc": {
   "base_numbering": 1,
   "nav_menu": {},
   "number_sections": true,
   "sideBar": true,
   "skip_h1_title": true,
   "title_cell": "Table of Contents",
   "title_sidebar": "Contents",
   "toc_cell": true,
   "toc_position": {},
   "toc_section_display": true,
   "toc_window_display": false
  }
 },
 "nbformat": 4,
 "nbformat_minor": 5
}
